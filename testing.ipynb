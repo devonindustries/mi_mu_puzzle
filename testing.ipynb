{
 "cells": [
  {
   "cell_type": "code",
   "execution_count": 6,
   "metadata": {},
   "outputs": [],
   "source": [
    "def next_step(state, axiom):\n",
    "    if axiom == 1:\n",
    "        if state[-1] == 'I':\n",
    "            return state + 'U'\n",
    "        else:\n",
    "            return state\n",
    "    elif axiom == 2:\n",
    "        return state + state\n",
    "    elif axiom == 3:\n",
    "        if 'III' in state:\n",
    "            return state[0:state.index('III')] + 'U' + state[state.index('III')+3:]\n",
    "        else:\n",
    "            return state\n",
    "    else:\n",
    "        if 'UU' in state:\n",
    "            return state[0:state.index('UU')] + state[state.index('UU')+2:]"
   ]
  },
  {
   "cell_type": "code",
   "execution_count": 13,
   "metadata": {},
   "outputs": [],
   "source": [
    "taken_theorems = set()\n",
    "states = []"
   ]
  },
  {
   "cell_type": "code",
   "execution_count": 14,
   "metadata": {},
   "outputs": [],
   "source": [
    "states.append({'I' : dict()})"
   ]
  },
  {
   "cell_type": "code",
   "execution_count": null,
   "metadata": {},
   "outputs": [],
   "source": []
  }
 ],
 "metadata": {
  "kernelspec": {
   "display_name": "Python 3",
   "language": "python",
   "name": "python3"
  },
  "language_info": {
   "codemirror_mode": {
    "name": "ipython",
    "version": 3
   },
   "file_extension": ".py",
   "mimetype": "text/x-python",
   "name": "python",
   "nbconvert_exporter": "python",
   "pygments_lexer": "ipython3",
   "version": "3.6.6+"
  }
 },
 "nbformat": 4,
 "nbformat_minor": 2
}
