{
 "cells": [
  {
   "cell_type": "code",
   "execution_count": 70,
   "metadata": {},
   "outputs": [],
   "source": [
    "# Define a next step function for applying an axiom to a string of text that does not include the letter 'M'\n",
    "def next_step(state, axiom, offset=0):\n",
    "    if axiom == 1:\n",
    "        if state[-1] == 'I':\n",
    "            return state + 'U'\n",
    "    elif axiom == 2:\n",
    "        return state + state\n",
    "    elif axiom == 3:\n",
    "        if 'III' in state:\n",
    "            return state[0:state.index('III', offset)] + 'U' + state[state.index('III', offset)+3:]\n",
    "    else:\n",
    "        if 'UU' in state:\n",
    "            return state[0:state.index('UU', offset)] + state[state.index('UU', offset)+2:]\n",
    "\n",
    "    # The axiom could not be applied\n",
    "    return False"
   ]
  },
  {
   "cell_type": "code",
   "execution_count": 72,
   "metadata": {
    "tags": []
   },
   "outputs": [],
   "source": [
    "# IMPORTANT NOTE : We can apply Axiom 3 to the string 'IIIII' in three different ways.\n",
    "# We can obtain 'UII', 'IUI', or 'IIU' from the string listed above. \n",
    "# Generally speaking, we can apply A3 to 'I...I' with the letter I appearing n times a total of n-2 times.\n",
    "def find_repeats(state, axiom):\n",
    "    s_text = 'III' if axiom == 3 else 'UU'\n",
    "    offset = 2 if axiom == 3 else 1\n",
    "    repeats = set()\n",
    "    for i in range(0, len(state)-offset):\n",
    "        repeats.add(state.find(s_text, i))    \n",
    "    return repeats"
   ]
  },
  {
   "cell_type": "code",
   "execution_count": 109,
   "metadata": {},
   "outputs": [],
   "source": [
    "# Now we are ready to generate the n levels of a tree-like structure containing every possible outcome up to iteration n.\n",
    "# Let us define the function below to generate n levels.\n",
    "def generate_levels(n, initial_condition='I'):\n",
    "\n",
    "    states = [{initial_condition}]\n",
    "    taken_theorems = set()\n",
    "\n",
    "    for level in range(0, n):\n",
    "\n",
    "        old_states = states[level]\n",
    "        new_states = set()\n",
    "\n",
    "        for state in old_states:\n",
    "\n",
    "            for axiom in range(1, 5):\n",
    "\n",
    "                ns = None\n",
    "                \n",
    "                if axiom == 3 or axiom == 4:\n",
    "                    repeats = find_repeats(state, axiom)\n",
    "                    if not(-1 in repeats):\n",
    "                        for offset in repeats:\n",
    "                            ns = next_step(state, axiom, offset)\n",
    "                else:\n",
    "                    ns = next_step(state, axiom)\n",
    "                \n",
    "                if ns:\n",
    "                    if not(ns in taken_theorems):\n",
    "                        new_states.add(ns)\n",
    "                    taken_theorems.add(ns)\n",
    "\n",
    "        states.append(new_states)\n",
    "\n",
    "    return states"
   ]
  },
  {
   "cell_type": "code",
   "execution_count": null,
   "metadata": {},
   "outputs": [],
   "source": []
  }
 ],
 "metadata": {
  "kernelspec": {
   "name": "python395jvsc74a57bd08d655e6e8231969d0d392ccf6f7f22ef17015c4aadfeca1833b2ef6be1337376",
   "display_name": "Python 3.9.5 64-bit ('PythonSoftwareFoundation.Python.3.9_qbz5n2kfra8p0')"
  },
  "language_info": {
   "codemirror_mode": {
    "name": "ipython",
    "version": 3
   },
   "file_extension": ".py",
   "mimetype": "text/x-python",
   "name": "python",
   "nbconvert_exporter": "python",
   "pygments_lexer": "ipython3",
   "version": "3.9.5"
  },
  "metadata": {
   "interpreter": {
    "hash": "8d655e6e8231969d0d392ccf6f7f22ef17015c4aadfeca1833b2ef6be1337376"
   }
  }
 },
 "nbformat": 4,
 "nbformat_minor": 2
}